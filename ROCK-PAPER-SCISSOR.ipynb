{
 "cells": [
  {
   "cell_type": "code",
   "execution_count": 3,
   "id": "3576c122-a19e-43bb-a634-24305c6f7caa",
   "metadata": {},
   "outputs": [],
   "source": [
    "# 0: sasso\n",
    "# 1: carta\n",
    "# 2: forbice\n",
    "\n",
    "import random"
   ]
  },
  {
   "cell_type": "code",
   "execution_count": null,
   "id": "27bdfa98-89a2-4eb8-9c5f-577a4e175865",
   "metadata": {},
   "outputs": [],
   "source": []
  },
  {
   "cell_type": "code",
   "execution_count": null,
   "id": "b67ff60c-6c78-4cc8-a277-fa468eb61ed0",
   "metadata": {},
   "outputs": [],
   "source": []
  },
  {
   "cell_type": "code",
   "execution_count": null,
   "id": "8a3b48a1-b475-4eb4-bfa1-93121022dcd1",
   "metadata": {},
   "outputs": [],
   "source": []
  },
  {
   "cell_type": "code",
   "execution_count": null,
   "id": "63ecd12f-f978-4bdd-bd44-6993c75d3967",
   "metadata": {},
   "outputs": [],
   "source": [
    "r = random.randint(0, 2)\n",
    "print(r)\n",
    "\n",
    "occurrencies = {\n",
    "    'sasso': 0,\n",
    "    'carta': 0,\n",
    "    'forbice': 0\n",
    "}\n",
    "\n",
    "for i in range(0, 100000):\n",
    "    r = random.randint(0, 2)\n",
    "    if r == 0:\n",
    "        # occurrencies['sasso'] = occurrencies['sasso']+1\n",
    "        occurrencies['sasso'] +=1\n",
    "    elif r == 1:\n",
    "        occurrencies['carta'] +=1\n",
    "    else:\n",
    "        occurrencies['forbice'] +=1\n",
    "        \n",
    "print(occurrencies)"
   ]
  },
  {
   "cell_type": "code",
   "execution_count": null,
   "id": "5132740a-d85c-4dac-837f-7e08d0e1a6b7",
   "metadata": {},
   "outputs": [],
   "source": []
  },
  {
   "cell_type": "code",
   "execution_count": null,
   "id": "74b95460-7219-4539-8e6a-c596a84bb202",
   "metadata": {},
   "outputs": [],
   "source": []
  },
  {
   "cell_type": "code",
   "execution_count": null,
   "id": "0876c826-1342-43e2-80a0-33a36efa3d54",
   "metadata": {},
   "outputs": [],
   "source": []
  },
  {
   "cell_type": "code",
   "execution_count": 4,
   "id": "03c4d7e0-0a18-4e2d-89db-60b68c43093b",
   "metadata": {},
   "outputs": [
    {
     "name": "stdout",
     "output_type": "stream",
     "text": [
      "0 - Sasso\n",
      "1 - Carta\n",
      "2 - Forbice\n",
      "3 - Resetta i punteggi\n",
      "4 - Termina il gioco\n"
     ]
    },
    {
     "name": "stdin",
     "output_type": "stream",
     "text": [
      "\n",
      "Cosa vuoi fare?\n",
      " 1\n"
     ]
    },
    {
     "name": "stdout",
     "output_type": "stream",
     "text": [
      "Carta vs. Carta\n",
      "Pareggio!\n",
      "0 - Sasso\n",
      "1 - Carta\n",
      "2 - Forbice\n",
      "3 - Resetta i punteggi\n",
      "4 - Termina il gioco\n"
     ]
    },
    {
     "name": "stdin",
     "output_type": "stream",
     "text": [
      "\n",
      "Cosa vuoi fare?\n",
      " 2\n"
     ]
    },
    {
     "name": "stdout",
     "output_type": "stream",
     "text": [
      "Forbice vs. Sasso\n",
      "Vince -> computer\n",
      "0 - Sasso\n",
      "1 - Carta\n",
      "2 - Forbice\n",
      "3 - Resetta i punteggi\n",
      "4 - Termina il gioco\n"
     ]
    },
    {
     "name": "stdin",
     "output_type": "stream",
     "text": [
      "\n",
      "Cosa vuoi fare?\n",
      " 1\n"
     ]
    },
    {
     "name": "stdout",
     "output_type": "stream",
     "text": [
      "Carta vs. Carta\n",
      "Pareggio!\n",
      "0 - Sasso\n",
      "1 - Carta\n",
      "2 - Forbice\n",
      "3 - Resetta i punteggi\n",
      "4 - Termina il gioco\n"
     ]
    },
    {
     "name": "stdin",
     "output_type": "stream",
     "text": [
      "\n",
      "Cosa vuoi fare?\n",
      " 1\n"
     ]
    },
    {
     "name": "stdout",
     "output_type": "stream",
     "text": [
      "Carta vs. Sasso\n",
      "Vince -> player\n",
      "0 - Sasso\n",
      "1 - Carta\n",
      "2 - Forbice\n",
      "3 - Resetta i punteggi\n",
      "4 - Termina il gioco\n"
     ]
    },
    {
     "name": "stdin",
     "output_type": "stream",
     "text": [
      "\n",
      "Cosa vuoi fare?\n",
      " 0\n"
     ]
    },
    {
     "name": "stdout",
     "output_type": "stream",
     "text": [
      "Sasso vs. Sasso\n",
      "Pareggio!\n",
      "0 - Sasso\n",
      "1 - Carta\n",
      "2 - Forbice\n",
      "3 - Resetta i punteggi\n",
      "4 - Termina il gioco\n"
     ]
    },
    {
     "name": "stdin",
     "output_type": "stream",
     "text": [
      "\n",
      "Cosa vuoi fare?\n",
      " 0\n"
     ]
    },
    {
     "name": "stdout",
     "output_type": "stream",
     "text": [
      "Sasso vs. Forbice\n",
      "Vince -> player\n",
      "0 - Sasso\n",
      "1 - Carta\n",
      "2 - Forbice\n",
      "3 - Resetta i punteggi\n",
      "4 - Termina il gioco\n"
     ]
    },
    {
     "name": "stdin",
     "output_type": "stream",
     "text": [
      "\n",
      "Cosa vuoi fare?\n",
      " 2\n"
     ]
    },
    {
     "name": "stdout",
     "output_type": "stream",
     "text": [
      "Forbice vs. Carta\n",
      "Vince -> player\n",
      "0 - Sasso\n",
      "1 - Carta\n",
      "2 - Forbice\n",
      "3 - Resetta i punteggi\n",
      "4 - Termina il gioco\n"
     ]
    },
    {
     "name": "stdin",
     "output_type": "stream",
     "text": [
      "\n",
      "Cosa vuoi fare?\n",
      " 2\n"
     ]
    },
    {
     "name": "stdout",
     "output_type": "stream",
     "text": [
      "Forbice vs. Forbice\n",
      "Pareggio!\n",
      "0 - Sasso\n",
      "1 - Carta\n",
      "2 - Forbice\n",
      "3 - Resetta i punteggi\n",
      "4 - Termina il gioco\n"
     ]
    },
    {
     "name": "stdin",
     "output_type": "stream",
     "text": [
      "\n",
      "Cosa vuoi fare?\n",
      " 0\n"
     ]
    },
    {
     "name": "stdout",
     "output_type": "stream",
     "text": [
      "Sasso vs. Carta\n",
      "Vince -> computer\n",
      "0 - Sasso\n",
      "1 - Carta\n",
      "2 - Forbice\n",
      "3 - Resetta i punteggi\n",
      "4 - Termina il gioco\n"
     ]
    },
    {
     "name": "stdin",
     "output_type": "stream",
     "text": [
      "\n",
      "Cosa vuoi fare?\n",
      " 0\n"
     ]
    },
    {
     "name": "stdout",
     "output_type": "stream",
     "text": [
      "Sasso vs. Sasso\n",
      "Pareggio!\n",
      "0 - Sasso\n",
      "1 - Carta\n",
      "2 - Forbice\n",
      "3 - Resetta i punteggi\n",
      "4 - Termina il gioco\n"
     ]
    },
    {
     "name": "stdin",
     "output_type": "stream",
     "text": [
      "\n",
      "Cosa vuoi fare?\n",
      " 4\n"
     ]
    },
    {
     "name": "stdout",
     "output_type": "stream",
     "text": [
      "Gioco terminato\n",
      "Umano: 3 \t Computer: 2\n"
     ]
    }
   ],
   "source": [
    "# 0: sasso\n",
    "# 1: carta\n",
    "# 2: forbice\n",
    "\n",
    "human_score = 0\n",
    "computer_score = 0\n",
    "\n",
    "labels = ['Sasso', 'Carta', 'Forbice']\n",
    "\n",
    "game_matrix = [\n",
    "    #      C0   C1   C2\n",
    "    # P0   d    c    p\n",
    "    # P1   p    d    c    \n",
    "    # P2   c    p    d\n",
    "    ['pari', 'computer', 'player'],\n",
    "    ['player', 'pari', 'computer'],\n",
    "    ['computer', 'player', 'pari']\n",
    "]\n",
    "\n",
    "game = True\n",
    "\n",
    "while game:\n",
    "    print(\"0 - Sasso\")\n",
    "    print(\"1 - Carta\")\n",
    "    print(\"2 - Forbice\")\n",
    "    print(\"3 - Resetta i punteggi\")\n",
    "    print(\"4 - Termina il gioco\")\n",
    "    \n",
    "    user_input = input(\"\\nCosa vuoi fare?\\n\")\n",
    "    \n",
    "    if user_input == \"4\":\n",
    "        print(\"Gioco terminato\")\n",
    "        print(f\"Umano: {human_score} \\t Computer: {computer_score}\")\n",
    "        game = False\n",
    "    elif user_input == \"3\":\n",
    "        print(\"Resetto i punteggi:\")\n",
    "        print(f\"Umano: {human_score} \\t Computer: {computer_score}\")\n",
    "        human_score = 0\n",
    "        computer_score = 0\n",
    "    elif int(user_input) in range(0, 3):\n",
    "        # 0: sasso\n",
    "        # 1: carta\n",
    "        # 2: forbice\n",
    "        computer = random.randint(0, 2)\n",
    "        user = int(user_input)\n",
    "        print(f\"{labels[user]} vs. {labels[computer]}\")\n",
    "        if game_matrix[user][computer] == 'computer':\n",
    "            computer_score += 1\n",
    "            print(f\"Vince -> {game_matrix[user][computer]}\")\n",
    "        elif game_matrix[user][computer] == 'player':\n",
    "            human_score += 1\n",
    "            print(f\"Vince -> {game_matrix[user][computer]}\")\n",
    "        else:\n",
    "            print(\"Pareggio!\")\n",
    "    else:\n",
    "        print(\"Scelta non valida\")"
   ]
  },
  {
   "cell_type": "code",
   "execution_count": null,
   "id": "cb85a9c4-ae5e-415a-a25f-fb269d8a3fff",
   "metadata": {},
   "outputs": [],
   "source": []
  },
  {
   "cell_type": "code",
   "execution_count": null,
   "id": "6a7f502b-e2a6-4fad-a182-5fde3f50083b",
   "metadata": {},
   "outputs": [],
   "source": []
  },
  {
   "cell_type": "code",
   "execution_count": null,
   "id": "b85ca66e-44d8-47c8-b3c6-71cc9e376a72",
   "metadata": {},
   "outputs": [],
   "source": []
  },
  {
   "cell_type": "code",
   "execution_count": null,
   "id": "86d78aee-5960-49c3-b8a6-c3354744b296",
   "metadata": {},
   "outputs": [],
   "source": []
  },
  {
   "cell_type": "code",
   "execution_count": null,
   "id": "42da2413-fb3d-466f-b2dc-0c500f1fe22f",
   "metadata": {},
   "outputs": [],
   "source": []
  },
  {
   "cell_type": "code",
   "execution_count": null,
   "id": "089604a3-6565-4d75-aee9-c9d8448f6fc7",
   "metadata": {},
   "outputs": [],
   "source": []
  },
  {
   "cell_type": "code",
   "execution_count": null,
   "id": "c7eccb99-4db4-4007-add6-6e0b06f88fa8",
   "metadata": {},
   "outputs": [],
   "source": []
  },
  {
   "cell_type": "code",
   "execution_count": null,
   "id": "d10648d7-77d0-4ce9-8c6d-088c740d1a87",
   "metadata": {},
   "outputs": [],
   "source": []
  },
  {
   "cell_type": "code",
   "execution_count": null,
   "id": "5c436ab3-07d9-4c8c-ab3e-6aede61a89bf",
   "metadata": {},
   "outputs": [],
   "source": []
  },
  {
   "cell_type": "code",
   "execution_count": null,
   "id": "ac8a6b43-a521-404a-baa8-d38689b098f4",
   "metadata": {},
   "outputs": [],
   "source": []
  },
  {
   "cell_type": "code",
   "execution_count": null,
   "id": "7ed41d10-2cca-42f3-b8ea-926e27a3b7f1",
   "metadata": {},
   "outputs": [],
   "source": []
  }
 ],
 "metadata": {
  "kernelspec": {
   "display_name": "Python 3 (ipykernel)",
   "language": "python",
   "name": "python3"
  },
  "language_info": {
   "codemirror_mode": {
    "name": "ipython",
    "version": 3
   },
   "file_extension": ".py",
   "mimetype": "text/x-python",
   "name": "python",
   "nbconvert_exporter": "python",
   "pygments_lexer": "ipython3",
   "version": "3.11.6"
  }
 },
 "nbformat": 4,
 "nbformat_minor": 5
}
